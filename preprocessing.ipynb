{
 "cells": [
  {
   "cell_type": "code",
   "execution_count": 1,
   "metadata": {},
   "outputs": [],
   "source": [
    "import pandas as pd\n",
    "import numpy as np"
   ]
  },
  {
   "cell_type": "code",
   "execution_count": null,
   "metadata": {},
   "outputs": [
    {
     "name": "stdout",
     "output_type": "stream",
     "text": [
      "Dữ liệu đã được chuẩn hóa và lưu vào file 'normalized_data.csv'\n"
     ]
    }
   ],
   "source": [
    "\n",
    "\n",
    "# Đọc dữ liệu từ file\n",
    "df = pd.read_csv(\"data.csv\")\n",
    "\n",
    "# Loại bỏ khoảng trắng ở đầu và cuối tên cột\n",
    "df.columns = df.columns.str.strip()\n",
    "\n",
    "# Chọn các cột nhãn cảm xúc\n",
    "emotion_cols = ['amazement', 'solemnity', 'tenderness', 'nostalgia', \n",
    "                'calmness', 'power', 'joyful_activation', 'tension', 'sadness']\n",
    "\n",
    "# Kiểm tra xem các cột cảm xúc có tồn tại không\n",
    "missing_cols = [col for col in emotion_cols if col not in df.columns]\n",
    "if missing_cols:\n",
    "    print(\"Các cột không tồn tại:\", missing_cols)\n",
    "else:\n",
    "    # Tính tổng số lần bình chọn cho mỗi nhãn cảm xúc theo từng bài hát\n",
    "    df_grouped = df.groupby('track id')[emotion_cols].sum().reset_index()\n",
    "\n",
    "    # Thêm cột genre\n",
    "    df_genre = df.groupby('track id')['genre'].first().reset_index()\n",
    "    df_grouped = pd.merge(df_grouped, df_genre, on='track id')\n",
    "\n",
    "    # Hàm chọn cảm xúc nhiều nhất\n",
    "    def choose_max_emotion(row):\n",
    "        max_value = row.max()\n",
    "        max_emotions = row[row == max_value].index.tolist()  # Lấy danh sách các cảm xúc có điểm cao nhất\n",
    "        return np.random.choice(max_emotions)  # Chọn ngẫu nhiên một cảm xúc trong danh sách\n",
    "\n",
    "    # Áp dụng hàm để chọn cảm xúc\n",
    "    df_grouped['Selected_Emotion'] = df_grouped[emotion_cols].apply(choose_max_emotion, axis=1)\n",
    "\n",
    "    # Chuẩn hóa nhãn cảm xúc thành nhãn nhị phân\n",
    "    for emotion in emotion_cols:\n",
    "        df_grouped[emotion] = (df_grouped['Selected_Emotion'] == emotion).astype(int)\n",
    "\n",
    "    # Xóa cột 'Selected_Emotion' (nếu không cần)\n",
    "    df_grouped = df_grouped.drop(columns=['Selected_Emotion'])\n",
    "\n",
    "    # Lưu dữ liệu đã chuẩn hóa\n",
    "    df_grouped.to_csv(\"new_normalize.csv\", index=False)\n",
    "\n",
    "    print(\"Dữ liệu đã được chuẩn hóa và lưu vào file 'normalized_data.csv'\")\n"
   ]
  },
  {
   "cell_type": "code",
   "execution_count": 2,
   "metadata": {},
   "outputs": [
    {
     "name": "stdout",
     "output_type": "stream",
     "text": [
      "Dữ liệu đã được chuẩn hóa và lưu vào file 'new_normalize.csv'\n"
     ]
    }
   ],
   "source": [
    "# Đọc dữ liệu từ file\n",
    "df = pd.read_csv(\"data.csv\")\n",
    "\n",
    "# Loại bỏ khoảng trắng ở đầu và cuối tên cột\n",
    "df.columns = df.columns.str.strip()\n",
    "\n",
    "# Chọn các cột nhãn cảm xúc\n",
    "emotion_cols = ['amazement', 'solemnity', 'tenderness', 'nostalgia', \n",
    "                'calmness', 'power', 'joyful_activation', 'tension', 'sadness']\n",
    "\n",
    "# Kiểm tra xem các cột cảm xúc có tồn tại không\n",
    "missing_cols = [col for col in emotion_cols if col not in df.columns]\n",
    "if missing_cols:\n",
    "    print(\"Các cột không tồn tại:\", missing_cols)\n",
    "else:\n",
    "    # Tính tổng số lần bình chọn cho mỗi nhãn cảm xúc theo từng bài hát\n",
    "    df_grouped = df.groupby('track id')[emotion_cols].sum().reset_index()\n",
    "\n",
    "    # Thêm cột genre\n",
    "    df_genre = df.groupby('track id')['genre'].first().reset_index()\n",
    "    df_grouped = pd.merge(df_grouped, df_genre, on='track id')\n",
    "\n",
    "    # Hàm để chọn tất cả cảm xúc có số lượt bình chọn cao nhất\n",
    "    def set_max_emotions(row):\n",
    "        max_value = row.max()\n",
    "        # Đánh dấu 1 cho tất cả cảm xúc có số lượt bình chọn bằng max_value\n",
    "        return (row == max_value).astype(int)\n",
    "\n",
    "    # Áp dụng hàm để chuẩn hóa nhãn cảm xúc thành nhãn nhị phân\n",
    "    df_grouped[emotion_cols] = df_grouped[emotion_cols].apply(set_max_emotions, axis=1)\n",
    "\n",
    "    # Lưu dữ liệu đã chuẩn hóa\n",
    "    df_grouped.to_csv(\"new_normalize.csv\", index=False)\n",
    "\n",
    "    print(\"Dữ liệu đã được chuẩn hóa và lưu vào file 'new_normalize.csv'\")\n"
   ]
  },
  {
   "cell_type": "code",
   "execution_count": 3,
   "metadata": {},
   "outputs": [
    {
     "name": "stdout",
     "output_type": "stream",
     "text": [
      "Đường dẫn audio cùng thể loại đã được lưu vào file 'audio_paths.csv'.\n"
     ]
    }
   ],
   "source": [
    "# Đọc dữ liệu từ file đã chuẩn hóa\n",
    "df_normalized = pd.read_csv(\"new_normalize.csv\")\n",
    "\n",
    "# Tạo cột 'audio_path' chứa đường dẫn đến file audio\n",
    "# Lưu ý: track id cần được chuẩn hóa từ 1 đến 100\n",
    "df_normalized['audio_path'] = df_normalized.apply(lambda row: f\"E:\\Highlight detect\\Jupyter\\emotifymusic\\{row['genre']}\\{(row['track id'] - 1) % 100 + 1}.mp3\", axis=1)\n",
    "\n",
    "# Chọn cột 'track id', 'genre' và 'audio_path' để lưu\n",
    "df_paths = df_normalized[['track id', 'genre', 'audio_path']]\n",
    "\n",
    "# Lưu đường dẫn vào file mới\n",
    "df_paths.to_csv(\"new_audio_paths.csv\", index=False)\n",
    "\n",
    "print(\"Đường dẫn audio cùng thể loại đã được lưu vào file 'audio_paths.csv'.\")"
   ]
  },
  {
   "cell_type": "code",
   "execution_count": 44,
   "metadata": {},
   "outputs": [
    {
     "name": "stdout",
     "output_type": "stream",
     "text": [
      "                                            audio_path  file_exists\n",
      "0    E:\\Highlight detect\\Jupyter\\emotifymusic\\class...         True\n",
      "1    E:\\Highlight detect\\Jupyter\\emotifymusic\\class...         True\n",
      "2    E:\\Highlight detect\\Jupyter\\emotifymusic\\class...         True\n",
      "3    E:\\Highlight detect\\Jupyter\\emotifymusic\\class...         True\n",
      "4    E:\\Highlight detect\\Jupyter\\emotifymusic\\class...         True\n",
      "..                                                 ...          ...\n",
      "395  E:\\Highlight detect\\Jupyter\\emotifymusic\\pop\\9...         True\n",
      "396  E:\\Highlight detect\\Jupyter\\emotifymusic\\pop\\9...         True\n",
      "397  E:\\Highlight detect\\Jupyter\\emotifymusic\\pop\\9...         True\n",
      "398  E:\\Highlight detect\\Jupyter\\emotifymusic\\pop\\9...         True\n",
      "399  E:\\Highlight detect\\Jupyter\\emotifymusic\\pop\\1...         True\n",
      "\n",
      "[400 rows x 2 columns]\n",
      "Kết quả kiểm tra đã được lưu vào file 'audio_paths_with_check.csv'.\n"
     ]
    }
   ],
   "source": [
    "import os\n",
    "import pandas as pd\n",
    "\n",
    "# Đọc dữ liệu từ file đã lưu\n",
    "df_paths = pd.read_csv(\"audio_paths.csv\")\n",
    "\n",
    "# Hàm kiểm tra sự tồn tại của file\n",
    "def check_file_existence(path):\n",
    "    return os.path.isfile(path)\n",
    "\n",
    "# Kiểm tra từng đường dẫn và lưu kết quả vào cột mới\n",
    "df_paths['file_exists'] = df_paths['audio_path'].apply(check_file_existence)\n",
    "\n",
    "# In ra kết quả kiểm tra\n",
    "print(df_paths[['audio_path', 'file_exists']])\n",
    "\n",
    "# Lưu kết quả kiểm tra vào file mới nếu cần\n",
    "df_paths.to_csv(\"audio_paths_with_check.csv\", index=False)\n",
    "\n",
    "print(\"Kết quả kiểm tra đã được lưu vào file 'audio_paths_with_check.csv'.\")\n"
   ]
  },
  {
   "cell_type": "code",
   "execution_count": null,
   "metadata": {},
   "outputs": [
    {
     "name": "stdout",
     "output_type": "stream",
     "text": [
      "-3.0643487e-14\n"
     ]
    }
   ],
   "source": [
    "import os\n",
    "import librosa\n",
    "\n",
    "# Đường dẫn tuyệt đối đến tệp âm thanh\n",
    "path = r'E:\\Highlight detect\\Jupyter\\emotifymusic\\rock\\99.mp3'\n",
    "\n",
    "# Kiểm tra xem tệp có tồn tại không\n",
    "if os.path.exists(path):\n",
    "    try:\n",
    "        # Tải tệp âm thanh\n",
    "        y, sr = librosa.load(path=path, sr=None)\n",
    "        print(y[7])  # In giá trị mẫu đầu tiên\n",
    "    except Exception as e:\n",
    "        print(f\"Có lỗi xảy ra khi tải tệp: {e}\")\n",
    "else:\n",
    "    print(f\"Không tìm thấy tệp âm thanh tại đường dẫn: {path}\")\n"
   ]
  },
  {
   "cell_type": "code",
   "execution_count": 47,
   "metadata": {},
   "outputs": [
    {
     "name": "stdout",
     "output_type": "stream",
     "text": [
      "Dữ liệu đã được chuẩn hóa và lưu vào file 'normalized_data.csv'.\n"
     ]
    }
   ],
   "source": [
    "\n",
    "\n",
    "# Đọc dữ liệu từ file\n",
    "df = pd.read_csv(\"normalized_data.csv\")\n",
    "\n",
    "# Loại bỏ khoảng trắng ở đầu và cuối tên cột\n",
    "df.columns = df.columns.str.strip()\n",
    "\n",
    "# Thay đổi giá trị track id theo công thức\n",
    "df['track id'] = ((df['track id'] - 1) % 100) + 1\n",
    "\n",
    "# Lưu dữ liệu đã chuẩn hóa vào file mới\n",
    "df.to_csv(\"normalized_data.csv\", index=False)\n",
    "\n",
    "print(\"Dữ liệu đã được chuẩn hóa và lưu vào file 'normalized_data.csv'.\")\n"
   ]
  },
  {
   "cell_type": "code",
   "execution_count": 6,
   "metadata": {},
   "outputs": [],
   "source": [
    "\n",
    "# Đọc dữ liệu từ hai file CSV\n",
    "df_paths = pd.read_csv(\"new_audio_paths.csv\")\n",
    "df_normalize = pd.read_csv(\"new_normalize.csv\")\n",
    "\n",
    "\n",
    "# Gộp hai bảng dựa trên cột 'track id'\n",
    "df_merged = pd.merge(df_normalize, df_paths[['track id', 'audio_path']], on='track id', how='left')\n",
    "\n",
    "# Bỏ cột 'genre'\n",
    "df_merged = df_merged.drop(columns=['genre'])\n",
    "\n",
    "# Đặt thứ tự cột mong muốn\n",
    "column_order = ['track id', 'audio_path', 'amazement', 'solemnity', 'tenderness', \n",
    "                'nostalgia', 'calmness', 'power', 'joyful_activation', 'tension', 'sadness']\n",
    "\n",
    "# Lưu kết quả vào file CSV mới với thứ tự cột đã chỉ định\n",
    "df_merged.to_csv(\"new_labels.csv\", index=False, columns=column_order)\n"
   ]
  }
 ],
 "metadata": {
  "kernelspec": {
   "display_name": "venv",
   "language": "python",
   "name": "python3"
  },
  "language_info": {
   "codemirror_mode": {
    "name": "ipython",
    "version": 3
   },
   "file_extension": ".py",
   "mimetype": "text/x-python",
   "name": "python",
   "nbconvert_exporter": "python",
   "pygments_lexer": "ipython3",
   "version": "3.10.10"
  }
 },
 "nbformat": 4,
 "nbformat_minor": 2
}
